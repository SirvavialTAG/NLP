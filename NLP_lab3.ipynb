{
  "nbformat": 4,
  "nbformat_minor": 0,
  "metadata": {
    "colab": {
      "provenance": [],
      "name": "NLP_lab3.ipynb",
      "authorship_tag": "ABX9TyMwDcdfRR6SjI97r4F2BIT7",
      "include_colab_link": true
    },
    "kernelspec": {
      "name": "python3",
      "display_name": "Python 3"
    },
    "language_info": {
      "name": "python"
    }
  },
  "cells": [
    {
      "cell_type": "markdown",
      "metadata": {
        "id": "view-in-github",
        "colab_type": "text"
      },
      "source": [
        "<a href=\"https://colab.research.google.com/github/SirvavialTAG/NLP/blob/main/NLP_lab3.ipynb\" target=\"_parent\"><img src=\"https://colab.research.google.com/assets/colab-badge.svg\" alt=\"Open In Colab\"/></a>"
      ]
    },
    {
      "cell_type": "code",
      "execution_count": null,
      "metadata": {
        "id": "x-uYyR3RuD46"
      },
      "outputs": [],
      "source": [
        "import numpy as np"
      ]
    },
    {
      "cell_type": "code",
      "source": [
        "# Функция активация (сигмоида)\n",
        "def sigmoid(x):\n",
        "  return 1 / (1 + np.exp(-x))"
      ],
      "metadata": {
        "id": "dNQ3QeL7_LE9"
      },
      "execution_count": null,
      "outputs": []
    },
    {
      "cell_type": "code",
      "source": [
        "# Производная сигмоиды\n",
        "def sigmoid_deriative(f_x):\n",
        "  return f_x * (1 - f_x)"
      ],
      "metadata": {
        "id": "bOG5wtjXAEBf"
      },
      "execution_count": null,
      "outputs": []
    },
    {
      "cell_type": "code",
      "source": [
        "class NeuralNetwork:\n",
        "  def __init__(self, input_neurons, hidden_neurons):\n",
        "    self.input_neurons = input_neurons\n",
        "    self.hidden_neurons = hidden_neurons\n",
        "\n",
        "    # Веса связей между входным и скрытым слоем\n",
        "    self.weights_input_hidden = np.random.uniform(-1, 1, (self.input_neurons, self.hidden_neurons))\n",
        "\n",
        "    # Веса связей между скрытым и выходным слоем\n",
        "    self.weights_hidden_output = np.random.uniform(-1, 1, (hidden_neurons, 1))\n",
        "\n",
        "    # Смещения для скрытого и выходного слоя\n",
        "    self.b_hidden = np.random.uniform(-1, 1, (hidden_neurons, 1))\n",
        "    self.b_output = np.random.uniform(-1, 1)\n",
        "\n",
        "  def forward(self, inputs):\n",
        "    \"\"\"Прямое распространение (От входов к выходу)\"\"\"\n",
        "    inputs = np.array(inputs).reshape(self.input_neurons,1)\n",
        "\n",
        "    # Взвешенная сумма для нейронов скрытого слоя\n",
        "    hidden_sum = np.dot(self.weights_input_hidden.T, inputs) + self.b_hidden\n",
        "    self.hidden = sigmoid(hidden_sum)\n",
        "\n",
        "    # Взвешенная сумма для нейрона выходного слоя\n",
        "    output_sum = np.dot(self.weights_hidden_output.T, self.hidden) + self.b_output\n",
        "    self.output = sigmoid(output_sum)\n",
        "\n",
        "    return self.output.item()\n",
        "\n",
        "  def train(self, inputs, target, learning_rate=0.1, epoch=None, print_interval=500):\n",
        "    \"\"\"Обучение через обратное распространение ошибки\"\"\"\n",
        "    # Прямое распространение\n",
        "    inputs = np.array(inputs).reshape(self.input_neurons, 1)\n",
        "    self.forward(inputs)\n",
        "\n",
        "    # Ошибка на выходе\n",
        "    output_error = target - self.output\n",
        "    output_delta = output_error * sigmoid_deriative(self.output)\n",
        "\n",
        "    if epoch is not None and epoch % print_interval == 0:\n",
        "            print(f\"Эпоха {epoch}: Ошибка = {output_error.item():.3f}, Предсказание = {self.output.item():.3f}, Цель = {target}\")\n",
        "\n",
        "    # Обновление веса и смещения между скрытым слоем и выходом\n",
        "    hidden_error = np.dot(self.weights_hidden_output, output_delta)\n",
        "    self.weights_hidden_output += learning_rate * output_delta * self.hidden\n",
        "    self.b_output += learning_rate * output_delta\n",
        "\n",
        "    # Обновление веса и смещения между входным и скрытым слоем\n",
        "    hidden_delta = hidden_error * sigmoid_deriative(self.hidden)\n",
        "    self.weights_input_hidden += learning_rate * np.dot(inputs, hidden_delta.T)\n",
        "    self.b_hidden += learning_rate * hidden_delta"
      ],
      "metadata": {
        "id": "pPyphjxRB_7k"
      },
      "execution_count": null,
      "outputs": []
    },
    {
      "cell_type": "code",
      "source": [
        "dataset = [\n",
        "    ([1, 1], 1),\n",
        "    ([-1, -1], 1),\n",
        "    ([2, 2], 0),\n",
        "    ([0, 3], 0),\n",
        "]\n",
        "\n",
        "TestNeuralNetwork = NeuralNetwork(2, 3)\n",
        "\n",
        "print(\"Обучение нейронной сети...\")\n",
        "for epoch in range(10000):\n",
        "    idx = np.random.choice(len(dataset))\n",
        "    inputs, target = dataset[idx]\n",
        "    TestNeuralNetwork.train(inputs, target, learning_rate=0.1, epoch=epoch)"
      ],
      "metadata": {
        "colab": {
          "base_uri": "https://localhost:8080/"
        },
        "id": "t2g-Y4JVDKbA",
        "outputId": "032bf633-bb73-4594-8a63-0cd01f02b703"
      },
      "execution_count": null,
      "outputs": [
        {
          "output_type": "stream",
          "name": "stdout",
          "text": [
            "Обучение нейронной сети...\n",
            "Эпоха 0: Ошибка = 0.627, Предсказание = 0.373, Цель = 1\n",
            "Эпоха 500: Ошибка = 0.249, Предсказание = 0.751, Цель = 1\n",
            "Эпоха 1000: Ошибка = -0.275, Предсказание = 0.275, Цель = 0\n",
            "Эпоха 1500: Ошибка = -0.264, Предсказание = 0.264, Цель = 0\n",
            "Эпоха 2000: Ошибка = -0.294, Предсказание = 0.294, Цель = 0\n",
            "Эпоха 2500: Ошибка = 0.299, Предсказание = 0.701, Цель = 1\n",
            "Эпоха 3000: Ошибка = -0.198, Предсказание = 0.198, Цель = 0\n",
            "Эпоха 3500: Ошибка = -0.176, Предсказание = 0.176, Цель = 0\n",
            "Эпоха 4000: Ошибка = 0.214, Предсказание = 0.786, Цель = 1\n",
            "Эпоха 4500: Ошибка = 0.009, Предсказание = 0.991, Цель = 1\n",
            "Эпоха 5000: Ошибка = 0.154, Предсказание = 0.846, Цель = 1\n",
            "Эпоха 5500: Ошибка = -0.124, Предсказание = 0.124, Цель = 0\n",
            "Эпоха 6000: Ошибка = 0.006, Предсказание = 0.994, Цель = 1\n",
            "Эпоха 6500: Ошибка = 0.005, Предсказание = 0.995, Цель = 1\n",
            "Эпоха 7000: Ошибка = 0.112, Предсказание = 0.888, Цель = 1\n",
            "Эпоха 7500: Ошибка = -0.038, Предсказание = 0.038, Цель = 0\n",
            "Эпоха 8000: Ошибка = -0.037, Предсказание = 0.037, Цель = 0\n",
            "Эпоха 8500: Ошибка = -0.033, Предсказание = 0.033, Цель = 0\n",
            "Эпоха 9000: Ошибка = -0.085, Предсказание = 0.085, Цель = 0\n",
            "Эпоха 9500: Ошибка = 0.003, Предсказание = 0.997, Цель = 1\n"
          ]
        }
      ]
    },
    {
      "cell_type": "code",
      "source": [
        "# Тесты\n",
        "dataset_test = [\n",
        "    ([0, 1], 1),\n",
        "    ([-1, 0], 1),\n",
        "    ([3, 2], 0),\n",
        "    ([1, 2], 0),\n",
        "    ([1.4, 1.4], 1),\n",
        "    ([1.5, 1.5], 0),\n",
        "    ([1.41419, 1.41419], 1),\n",
        "]\n",
        "\n",
        "for inputs, target in dataset_test:\n",
        "    prediction = TestNeuralNetwork.forward(inputs)\n",
        "    print(f\"Вход: {inputs}, Цель: {target}, Предсказание: {prediction:.3f}\")"
      ],
      "metadata": {
        "colab": {
          "base_uri": "https://localhost:8080/"
        },
        "id": "gI_ugghub8KU",
        "outputId": "86efcb3c-635a-4ebf-f1ad-5dfc5451dbca"
      },
      "execution_count": null,
      "outputs": [
        {
          "output_type": "stream",
          "name": "stdout",
          "text": [
            "Вход: [0, 1], Цель: 1, Предсказание: 0.950\n",
            "Вход: [-1, 0], Цель: 1, Предсказание: 0.995\n",
            "Вход: [3, 2], Цель: 0, Предсказание: 0.059\n",
            "Вход: [1, 2], Цель: 0, Предсказание: 0.121\n",
            "Вход: [1.4, 1.4], Цель: 1, Предсказание: 0.563\n",
            "Вход: [1.5, 1.5], Цель: 0, Предсказание: 0.429\n",
            "Вход: [1.41419, 1.41419], Цель: 1, Предсказание: 0.544\n"
          ]
        }
      ]
    }
  ]
}