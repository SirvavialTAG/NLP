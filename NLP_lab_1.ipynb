{
  "nbformat": 4,
  "nbformat_minor": 0,
  "metadata": {
    "colab": {
      "provenance": [],
      "authorship_tag": "ABX9TyOMuv8ljtitZi3tEk7NswWA",
      "include_colab_link": true
    },
    "kernelspec": {
      "name": "python3",
      "display_name": "Python 3"
    },
    "language_info": {
      "name": "python"
    }
  },
  "cells": [
    {
      "cell_type": "markdown",
      "metadata": {
        "id": "view-in-github",
        "colab_type": "text"
      },
      "source": [
        "<a href=\"https://colab.research.google.com/github/SirvavialTAG/NLP/blob/main/NLP_lab_1.ipynb\" target=\"_parent\"><img src=\"https://colab.research.google.com/assets/colab-badge.svg\" alt=\"Open In Colab\"/></a>"
      ]
    },
    {
      "cell_type": "code",
      "execution_count": 1,
      "metadata": {
        "colab": {
          "base_uri": "https://localhost:8080/"
        },
        "id": "WF4cPd_IhB0A",
        "outputId": "025c26b6-6421-4092-c006-4c379ab6e703"
      },
      "outputs": [
        {
          "output_type": "stream",
          "name": "stdout",
          "text": [
            "Requirement already satisfied: pymorphy3 in /usr/local/lib/python3.11/dist-packages (2.0.3)\n",
            "Requirement already satisfied: nltk in /usr/local/lib/python3.11/dist-packages (3.9.1)\n",
            "Requirement already satisfied: dawg2-python>=0.8.0 in /usr/local/lib/python3.11/dist-packages (from pymorphy3) (0.9.0)\n",
            "Requirement already satisfied: pymorphy3-dicts-ru in /usr/local/lib/python3.11/dist-packages (from pymorphy3) (2.4.417150.4580142)\n",
            "Requirement already satisfied: click in /usr/local/lib/python3.11/dist-packages (from nltk) (8.1.8)\n",
            "Requirement already satisfied: joblib in /usr/local/lib/python3.11/dist-packages (from nltk) (1.4.2)\n",
            "Requirement already satisfied: regex>=2021.8.3 in /usr/local/lib/python3.11/dist-packages (from nltk) (2024.11.6)\n",
            "Requirement already satisfied: tqdm in /usr/local/lib/python3.11/dist-packages (from nltk) (4.67.1)\n"
          ]
        }
      ],
      "source": [
        "pip install pymorphy3 nltk"
      ]
    },
    {
      "cell_type": "code",
      "source": [
        "import nltk\n",
        "from nltk.stem import PorterStemmer, WordNetLemmatizer\n",
        "from nltk.corpus import wordnet\n",
        "# nltk.download('wordnet')\n",
        "# nltk.download('averaged_perceptron_tagger_eng')"
      ],
      "metadata": {
        "id": "M6pH1gEPh0e2"
      },
      "execution_count": 2,
      "outputs": []
    },
    {
      "cell_type": "code",
      "source": [
        "text = (\n",
        "    \"About two years ago, in 1808, after returning to St. Petersburg from his \"\n",
        "    \"trip to the estates, Pierre unwittingly became the head of St. Petersburg \"\n",
        "    \"Freemasonry. He set up mess halls and funeral lodges, recruited new \"\n",
        "    \"members, took care of connecting the various lodges and acquiring \"\n",
        "    \"authentic acts. He gave his money for the construction of temples and \"\n",
        "    \"replenished, as much as he could, the collection of alms, for which most \"\n",
        "    \"of the members were stingy and careless. He supported the poor house set \"\n",
        "    \"up by the order in St. Petersburg almost alone at his own expense.\"\n",
        ")"
      ],
      "metadata": {
        "id": "GQwMcAt5nJPG"
      },
      "execution_count": 3,
      "outputs": []
    },
    {
      "cell_type": "markdown",
      "source": [
        "**Лемматизация**"
      ],
      "metadata": {
        "id": "AUNSiBTka4n0"
      }
    },
    {
      "cell_type": "code",
      "source": [
        "def get_wordnet_pos(tag):\n",
        "    tag_dict = {\n",
        "        'J': wordnet.ADJ,\n",
        "        'V': wordnet.VERB,\n",
        "        'N': wordnet.NOUN,\n",
        "        'R': wordnet.ADV\n",
        "    }\n",
        "    return tag_dict.get(tag[0], None)\n",
        "\n",
        "\n",
        "lemmatizer = WordNetLemmatizer()\n",
        "words = text.split()\n",
        "tagged_words = nltk.pos_tag(words)\n",
        "\n",
        "lemmatized_text = []\n",
        "for word, tag in tagged_words:\n",
        "  pos = get_wordnet_pos(tag)\n",
        "  if pos is not None:\n",
        "    lemma = lemmatizer.lemmatize(word, pos=pos)\n",
        "    lemmatized_text.append(lemma)\n",
        "  else:\n",
        "    lemmatized_text.append(word)\n",
        "\n",
        "joined_lemmatized_text = \" \".join(lemmatized_text)\n",
        "print(\"Лемматизация:\", joined_lemmatized_text)"
      ],
      "metadata": {
        "colab": {
          "base_uri": "https://localhost:8080/"
        },
        "id": "jsOHMmZ_lAit",
        "outputId": "c66476af-d466-4e5f-b237-7d3526ac82c8"
      },
      "execution_count": 4,
      "outputs": [
        {
          "output_type": "stream",
          "name": "stdout",
          "text": [
            "Лемматизация: About two year ago, in 1808, after return to St. Petersburg from his trip to the estates, Pierre unwittingly become the head of St. Petersburg Freemasonry. He set up mess hall and funeral lodges, recruit new members, take care of connect the various lodge and acquire authentic acts. He give his money for the construction of temple and replenished, as much as he could, the collection of alms, for which most of the member be stingy and careless. He support the poor house set up by the order in St. Petersburg almost alone at his own expense.\n"
          ]
        }
      ]
    },
    {
      "cell_type": "markdown",
      "source": [
        "**Стемминг**"
      ],
      "metadata": {
        "id": "5T2TN187a8mE"
      }
    },
    {
      "cell_type": "code",
      "source": [
        "stemmer = PorterStemmer()\n",
        "stemmed_text = [stemmer.stem(word) for word in text.split()]\n",
        "joined_stemmed_text = \" \".join(stemmed_text)\n",
        "print(\"Стемминг:\", joined_stemmed_text)"
      ],
      "metadata": {
        "colab": {
          "base_uri": "https://localhost:8080/"
        },
        "id": "LAdBAOKeuvEN",
        "outputId": "0e762219-25e3-4553-8604-477c46374d9f"
      },
      "execution_count": 5,
      "outputs": [
        {
          "output_type": "stream",
          "name": "stdout",
          "text": [
            "Стемминг: about two year ago, in 1808, after return to st. petersburg from hi trip to the estates, pierr unwittingli becam the head of st. petersburg freemasonry. he set up mess hall and funer lodges, recruit new members, took care of connect the variou lodg and acquir authent acts. he gave hi money for the construct of templ and replenished, as much as he could, the collect of alms, for which most of the member were stingi and careless. he support the poor hous set up by the order in st. petersburg almost alon at hi own expense.\n"
          ]
        }
      ]
    },
    {
      "cell_type": "markdown",
      "source": [
        "**Токенизация**"
      ],
      "metadata": {
        "id": "JDknYRCabAEW"
      }
    },
    {
      "cell_type": "code",
      "source": [
        "def tokenize(text: str) -> list[str]:\n",
        "  tokens = []\n",
        "  for char in text:\n",
        "    if char.isascii():\n",
        "      tokens.append(char)\n",
        "  return tokens"
      ],
      "metadata": {
        "id": "2REkoRCFw3Wl"
      },
      "execution_count": 6,
      "outputs": []
    },
    {
      "cell_type": "code",
      "source": [
        "test_text_1 = \"Текст для проверки работы пользовательской функции токенизации.\"\n",
        "test_text_2 = (\n",
        "          \"Text for verifying the operation of a custom tokenization function.\"\n",
        ")\n",
        "\n",
        "test_tokenize_text_1 = tokenize(test_text_1)\n",
        "test_tokenize_text_2 = tokenize(test_text_2)\n",
        "\n",
        "print(\"Тест 1: \", test_tokenize_text_1)\n",
        "print(\"Тест 2: \", tokenize(test_text_2))"
      ],
      "metadata": {
        "colab": {
          "base_uri": "https://localhost:8080/"
        },
        "id": "F3OZb5ojzj5u",
        "outputId": "07ed8a2a-cfd4-4a85-b417-369e959098aa"
      },
      "execution_count": 7,
      "outputs": [
        {
          "output_type": "stream",
          "name": "stdout",
          "text": [
            "Тест 1:  [' ', ' ', ' ', ' ', ' ', ' ', '.']\n",
            "Тест 2:  ['T', 'e', 'x', 't', ' ', 'f', 'o', 'r', ' ', 'v', 'e', 'r', 'i', 'f', 'y', 'i', 'n', 'g', ' ', 't', 'h', 'e', ' ', 'o', 'p', 'e', 'r', 'a', 't', 'i', 'o', 'n', ' ', 'o', 'f', ' ', 'a', ' ', 'c', 'u', 's', 't', 'o', 'm', ' ', 't', 'o', 'k', 'e', 'n', 'i', 'z', 'a', 't', 'i', 'o', 'n', ' ', 'f', 'u', 'n', 'c', 't', 'i', 'o', 'n', '.']\n"
          ]
        }
      ]
    },
    {
      "cell_type": "markdown",
      "source": [
        "**Векторизация**"
      ],
      "metadata": {
        "id": "DN5fs08ybDqE"
      }
    },
    {
      "cell_type": "code",
      "source": [
        "def vectorize(tokens: list[str]) -> list[int]:\n",
        "  vectors = [ord(char) for char in tokens]\n",
        "  return vectors"
      ],
      "metadata": {
        "id": "UUAhjtRQ5KCV"
      },
      "execution_count": 8,
      "outputs": []
    },
    {
      "cell_type": "code",
      "source": [
        "test_vectorize_text_1 = vectorize(test_tokenize_text_1)\n",
        "test_vectorize_text_2 = vectorize(test_tokenize_text_2)\n",
        "\n",
        "print(\"Тест 3: \", test_vectorize_text_1)\n",
        "print(\"Тест 4: \", test_vectorize_text_2)"
      ],
      "metadata": {
        "colab": {
          "base_uri": "https://localhost:8080/"
        },
        "id": "UwaC-jYj87mu",
        "outputId": "bfd95846-cd2b-4ba4-eeaa-e3b202d448cf"
      },
      "execution_count": 9,
      "outputs": [
        {
          "output_type": "stream",
          "name": "stdout",
          "text": [
            "Тест 3:  [32, 32, 32, 32, 32, 32, 46]\n",
            "Тест 4:  [84, 101, 120, 116, 32, 102, 111, 114, 32, 118, 101, 114, 105, 102, 121, 105, 110, 103, 32, 116, 104, 101, 32, 111, 112, 101, 114, 97, 116, 105, 111, 110, 32, 111, 102, 32, 97, 32, 99, 117, 115, 116, 111, 109, 32, 116, 111, 107, 101, 110, 105, 122, 97, 116, 105, 111, 110, 32, 102, 117, 110, 99, 116, 105, 111, 110, 46]\n"
          ]
        }
      ]
    },
    {
      "cell_type": "markdown",
      "source": [
        "**Токенизация и векторизация после лемматизации**"
      ],
      "metadata": {
        "id": "P_byNnJValac"
      }
    },
    {
      "cell_type": "code",
      "source": [
        "tokenize_lemmatized_text = tokenize(joined_lemmatized_text)\n",
        "print(tokenize_lemmatized_text[:45])\n",
        "\n",
        "vectorize_lemmatized_text = vectorize(tokenize_lemmatized_text)\n",
        "print(vectorize_lemmatized_text[:45])"
      ],
      "metadata": {
        "colab": {
          "base_uri": "https://localhost:8080/"
        },
        "id": "o2g41xWVBuyd",
        "outputId": "cced4db0-e171-4be6-ae5f-72fd0fe00eab"
      },
      "execution_count": 10,
      "outputs": [
        {
          "output_type": "stream",
          "name": "stdout",
          "text": [
            "['A', 'b', 'o', 'u', 't', ' ', 't', 'w', 'o', ' ', 'y', 'e', 'a', 'r', ' ', 'a', 'g', 'o', ',', ' ', 'i', 'n', ' ', '1', '8', '0', '8', ',', ' ', 'a', 'f', 't', 'e', 'r', ' ', 'r', 'e', 't', 'u', 'r', 'n', ' ', 't', 'o', ' ']\n",
            "[65, 98, 111, 117, 116, 32, 116, 119, 111, 32, 121, 101, 97, 114, 32, 97, 103, 111, 44, 32, 105, 110, 32, 49, 56, 48, 56, 44, 32, 97, 102, 116, 101, 114, 32, 114, 101, 116, 117, 114, 110, 32, 116, 111, 32]\n"
          ]
        }
      ]
    },
    {
      "cell_type": "markdown",
      "source": [
        "**Токенизация и векторизация после стемминга**"
      ],
      "metadata": {
        "id": "a74aaAMmaxAM"
      }
    },
    {
      "cell_type": "code",
      "source": [
        "tokenize_stemmed_text = tokenize(joined_stemmed_text)\n",
        "print(tokenize_stemmed_text[:45])\n",
        "\n",
        "vectorize_stemmed_text = vectorize(tokenize_stemmed_text)\n",
        "print(vectorize_stemmed_text[:45])"
      ],
      "metadata": {
        "colab": {
          "base_uri": "https://localhost:8080/"
        },
        "id": "Oho86fuca23E",
        "outputId": "953cab21-e7b0-409c-99d5-4ea6ff3aca4a"
      },
      "execution_count": 11,
      "outputs": [
        {
          "output_type": "stream",
          "name": "stdout",
          "text": [
            "['a', 'b', 'o', 'u', 't', ' ', 't', 'w', 'o', ' ', 'y', 'e', 'a', 'r', ' ', 'a', 'g', 'o', ',', ' ', 'i', 'n', ' ', '1', '8', '0', '8', ',', ' ', 'a', 'f', 't', 'e', 'r', ' ', 'r', 'e', 't', 'u', 'r', 'n', ' ', 't', 'o', ' ']\n",
            "[97, 98, 111, 117, 116, 32, 116, 119, 111, 32, 121, 101, 97, 114, 32, 97, 103, 111, 44, 32, 105, 110, 32, 49, 56, 48, 56, 44, 32, 97, 102, 116, 101, 114, 32, 114, 101, 116, 117, 114, 110, 32, 116, 111, 32]\n"
          ]
        }
      ]
    }
  ]
}